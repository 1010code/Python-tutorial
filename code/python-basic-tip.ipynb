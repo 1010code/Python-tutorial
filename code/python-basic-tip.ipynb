{
 "cells": [
  {
   "cell_type": "markdown",
   "metadata": {},
   "source": [
    "# [Python 新手村] 基礎用法整理-串列 (List)"
   ]
  },
  {
   "cell_type": "markdown",
   "metadata": {},
   "source": [
    "## 串列 (List)\n",
    "串列是 Python 中最基本的數據結構。序列中的每個元素都分配一個數字- 它的位置，或索引，第一個索引是0，第二個索引是1，依此類推。\n",
    "\n"
   ]
  },
  {
   "cell_type": "markdown",
   "metadata": {},
   "source": [
    "### List 插值"
   ]
  },
  {
   "cell_type": "code",
   "execution_count": 5,
   "metadata": {},
   "outputs": [
    {
     "name": "stdout",
     "output_type": "stream",
     "text": [
      "['first']\n",
      "['first', 'second']\n"
     ]
    }
   ],
   "source": [
    "myList = []\n",
    "myList.append('first')\n",
    "print(myList)\n",
    "myList.append('second')\n",
    "print(myList)"
   ]
  },
  {
   "cell_type": "markdown",
   "metadata": {},
   "source": [
    "### List 查詢位置\n",
    "尋找元素的索引"
   ]
  },
  {
   "cell_type": "code",
   "execution_count": 8,
   "metadata": {},
   "outputs": [
    {
     "name": "stdout",
     "output_type": "stream",
     "text": [
      "Index:  1\n"
     ]
    }
   ],
   "source": [
    "myList = ['apple', 'box', 'cat', 'dog']\n",
    "print('Index: ', myList.index('box'))"
   ]
  },
  {
   "cell_type": "markdown",
   "metadata": {},
   "source": [
    "### List 常見的方法\n",
    "- len() 回傳長度\n",
    "- sum() 回傳總和\n",
    "- max() 回傳最大值\n",
    "- min() 回傳最小值"
   ]
  },
  {
   "cell_type": "code",
   "execution_count": 31,
   "metadata": {},
   "outputs": [
    {
     "name": "stdout",
     "output_type": "stream",
     "text": [
      "長度:  5\n",
      "總和:  30\n",
      "最大值:  10\n",
      "最小值:  2\n"
     ]
    }
   ],
   "source": [
    "myList = [2, 4, 6, 8, 10]\n",
    "print('長度: ', len(myList))\n",
    "print('總和: ', sum(myList))\n",
    "print('最大值: ', max(myList))\n",
    "print('最小值: ', min(myList))"
   ]
  },
  {
   "cell_type": "markdown",
   "metadata": {},
   "source": [
    "### List 內建排序\n",
    "#### 方法一"
   ]
  },
  {
   "cell_type": "code",
   "execution_count": 3,
   "metadata": {},
   "outputs": [
    {
     "data": {
      "text/plain": [
       "[4, 6, 12, 22, 33, 41]"
      ]
     },
     "execution_count": 3,
     "metadata": {},
     "output_type": "execute_result"
    }
   ],
   "source": [
    "# 方法一\n",
    "myList = [33, 22, 41, 12, 6, 4]\n",
    "myList.sort()\n",
    "myList"
   ]
  },
  {
   "cell_type": "markdown",
   "metadata": {},
   "source": [
    "#### 方法二"
   ]
  },
  {
   "cell_type": "code",
   "execution_count": 3,
   "metadata": {},
   "outputs": [
    {
     "name": "stdout",
     "output_type": "stream",
     "text": [
      "myList:  [33, 22, 41, 12, 6, 4]\n",
      "newList: [4, 6, 12, 22, 33, 41]\n"
     ]
    }
   ],
   "source": [
    "# 方法二\n",
    "myList = [33, 22, 41, 12, 6, 4]\n",
    "newList = sorted(myList) # 排序並建立新的 List\n",
    "print('myList: ',myList)\n",
    "print('newList:', newList)"
   ]
  },
  {
   "cell_type": "markdown",
   "metadata": {},
   "source": [
    "### List 初始 0 \n",
    "假設我們有長度為 10 的串列，需要將裡面所有值做初始化。"
   ]
  },
  {
   "cell_type": "code",
   "execution_count": 1,
   "metadata": {},
   "outputs": [
    {
     "name": "stdout",
     "output_type": "stream",
     "text": [
      "[0, 0, 0, 0, 0, 0, 0, 0, 0, 0]\n"
     ]
    }
   ],
   "source": [
    "listofzeros = [0] * 10\n",
    "print(listofzeros)"
   ]
  },
  {
   "cell_type": "markdown",
   "metadata": {},
   "source": [
    "### 迴圈提取 List 所有元素\n",
    "假設我們的串列中有 4 個元素，我們想透過迴圈依序地取值。"
   ]
  },
  {
   "cell_type": "code",
   "execution_count": 2,
   "metadata": {},
   "outputs": [],
   "source": [
    "myList = ['apple', 'box', 'cat', 'dog']"
   ]
  },
  {
   "cell_type": "markdown",
   "metadata": {},
   "source": [
    "#### 方法一"
   ]
  },
  {
   "cell_type": "code",
   "execution_count": 11,
   "metadata": {},
   "outputs": [
    {
     "name": "stdout",
     "output_type": "stream",
     "text": [
      "0 apple\n",
      "1 box\n",
      "2 cat\n",
      "3 dog\n"
     ]
    }
   ],
   "source": [
    "# 方法一\n",
    "for i in range(len(myList)):\n",
    "    print(i,myList[i])"
   ]
  },
  {
   "cell_type": "markdown",
   "metadata": {},
   "source": [
    "#### 方法二"
   ]
  },
  {
   "cell_type": "code",
   "execution_count": 14,
   "metadata": {},
   "outputs": [
    {
     "name": "stdout",
     "output_type": "stream",
     "text": [
      "apple\n",
      "box\n",
      "cat\n",
      "dog\n"
     ]
    }
   ],
   "source": [
    "# 方法二\n",
    "for word in myList:\n",
    "    print(word)"
   ]
  },
  {
   "cell_type": "markdown",
   "metadata": {},
   "source": [
    "#### 方法三"
   ]
  },
  {
   "cell_type": "code",
   "execution_count": 3,
   "metadata": {},
   "outputs": [
    {
     "name": "stdout",
     "output_type": "stream",
     "text": [
      "0 apple\n",
      "1 box\n",
      "2 cat\n",
      "3 dog\n"
     ]
    }
   ],
   "source": [
    "# 方法三\n",
    "for index, word in enumerate(myList, start=0):\n",
    "    print(index, word)"
   ]
  },
  {
   "cell_type": "markdown",
   "metadata": {},
   "source": []
  },
  {
   "cell_type": "code",
   "execution_count": null,
   "metadata": {},
   "outputs": [],
   "source": []
  }
 ],
 "metadata": {
  "kernelspec": {
   "display_name": "Python 3",
   "language": "python",
   "name": "python3"
  },
  "language_info": {
   "codemirror_mode": {
    "name": "ipython",
    "version": 3
   },
   "file_extension": ".py",
   "mimetype": "text/x-python",
   "name": "python",
   "nbconvert_exporter": "python",
   "pygments_lexer": "ipython3",
   "version": "3.7.3"
  }
 },
 "nbformat": 4,
 "nbformat_minor": 4
}
